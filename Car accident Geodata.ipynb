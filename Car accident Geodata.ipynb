{
 "cells": [
  {
   "cell_type": "code",
   "execution_count": 1,
   "id": "aa93afcd-3996-4596-9962-7126c625e32b",
   "metadata": {},
   "outputs": [
    {
     "name": "stdout",
     "output_type": "stream",
     "text": [
      "Current Directory: C:\\Users\\Felipe\n",
      "F:\\FELIPE\\Trabajos extras\\2024\\RHETT MORRIS\\Car accident fatatilities\n",
      "Changed to Directory: F:\\FELIPE\\Trabajos extras\\2024\\RHETT MORRIS\\Car accident fatatilities\n"
     ]
    }
   ],
   "source": [
    "import os\n",
    "print(\"Current Directory:\", os.getcwd())\n",
    "\n",
    "%cd F:\\FELIPE\\Trabajos extras\\2024\\RHETT MORRIS\\Car accident fatatilities\n",
    "print(\"Changed to Directory:\", os.getcwd())\n"
   ]
  },
  {
   "cell_type": "code",
   "execution_count": 2,
   "id": "f57a3db9-baf0-4072-a6c5-f1697f4f8c58",
   "metadata": {},
   "outputs": [],
   "source": [
    "import pandas as pd\n",
    "import numpy as np\n",
    "\n",
    "accident_data1222 = pd.read_excel('F:/FELIPE/Trabajos extras/2024/RHETT MORRIS/Car accident fatatilities/2012-2022.xlsx', index_col=0)\n"
   ]
  },
  {
   "cell_type": "code",
   "execution_count": 3,
   "id": "db62a5a3-fc10-4df9-9ddd-f58849790048",
   "metadata": {},
   "outputs": [],
   "source": [
    "import geopandas as gpd"
   ]
  },
  {
   "cell_type": "code",
   "execution_count": 4,
   "id": "45a985f3-0c9b-4b0c-bff9-3a8b7cef5fea",
   "metadata": {},
   "outputs": [],
   "source": [
    "df_zcta = gpd.read_file('F:/FELIPE/Trabajos extras/2024/RHETT MORRIS/Car accident fatatilities/tl_2022_us_zcta520.zip')"
   ]
  },
  {
   "cell_type": "code",
   "execution_count": 5,
   "id": "8ec01004-a6f8-460b-aa2d-008be8e271e4",
   "metadata": {},
   "outputs": [],
   "source": [
    "gdf_accident_data1222 = gpd.GeoDataFrame(accident_data1222, geometry=gpd.points_from_xy(x=accident_data1222[\"LONGITUD\"], y=accident_data1222[\"LATITUDE\"]), crs=\"epsg:4269\")"
   ]
  },
  {
   "cell_type": "code",
   "execution_count": 6,
   "id": "69b71ca2-9d8d-443c-94f4-4953e0a8df9d",
   "metadata": {},
   "outputs": [],
   "source": [
    "gdf_accident_data1222 = gpd.sjoin(gdf_accident_data1222.to_crs(epsg=4269), df_zcta, how=\"left\", predicate=\"intersects\")"
   ]
  },
  {
   "cell_type": "code",
   "execution_count": 7,
   "id": "11aa3b6e-605e-41ed-b1bf-b95b3f4db562",
   "metadata": {},
   "outputs": [],
   "source": [
    "gdf_accident_data1222['ZCTA5CE20'] = pd.to_numeric(gdf_accident_data1222['ZCTA5CE20'])"
   ]
  },
  {
   "cell_type": "code",
   "execution_count": 8,
   "id": "a6566382-0ddd-4d95-a1e4-06ba1895f519",
   "metadata": {},
   "outputs": [
    {
     "name": "stderr",
     "output_type": "stream",
     "text": [
      "C:\\Users\\Felipe\\AppData\\Local\\Temp\\ipykernel_27452\\3368768289.py:1: DtypeWarning: Columns (2,3,4,5,6,7,8,9,10,11,12,13,14,15,16,17,18,19,20,21,22,23,24,25,26,27,28,29,30,31,32,33,34,35,36,37,38,39,40,41,42,43,44,45,46,47,48,49,50,51,52,53,54,55,56,57,58,59,60,61,62,63,64,65,66,67,68,69,70,71,72,73,77,78,79,80,81,82,83,84,85,86,87,88,89,90,91,92,93,94,95,96,97,98,99,100,101,102,103,104,105,106,107,108,109,110,111,112,113,114,115,116,117,118,119,120,121,122,123,124,125,126,127,128,129,130,131,132,133,134,135,136,137,138,139,140,141,142,143,144,145,146,147,148,149,150,151,152,153,154,155,156,157,158,159,160,161) have mixed types. Specify dtype option on import or set low_memory=False.\n",
      "  population = pd.read_csv('F:/FELIPE/Trabajos extras/2024/RHETT MORRIS/Car accident fatatilities/DECENNIALDP2020.DP1-Data.csv')\n"
     ]
    }
   ],
   "source": [
    "population = pd.read_csv('F:/FELIPE/Trabajos extras/2024/RHETT MORRIS/Car accident fatatilities/DECENNIALDP2020.DP1-Data.csv')\n"
   ]
  },
  {
   "cell_type": "code",
   "execution_count": 9,
   "id": "f452a7e1-ecb1-4a24-bd84-68d6bba1d8a7",
   "metadata": {},
   "outputs": [],
   "source": [
    "population['NAME'] = population['NAME'].str.replace('ZCTA5 ', '')"
   ]
  },
  {
   "cell_type": "code",
   "execution_count": 10,
   "id": "46da31f1-9876-4f97-bdef-b2611e26f14e",
   "metadata": {},
   "outputs": [],
   "source": [
    "population = population.rename(columns={'NAME': 'ZCTA5CE20'})\n",
    "population = population.drop(0)"
   ]
  },
  {
   "cell_type": "code",
   "execution_count": 11,
   "id": "701f588c-5568-41e4-b733-11f0b9e08836",
   "metadata": {},
   "outputs": [],
   "source": [
    "population['ZCTA5CE20'] = pd.to_numeric(population['ZCTA5CE20'])\n",
    "population['DP1_0001C'] = pd.to_numeric(population['DP1_0001C'])"
   ]
  },
  {
   "cell_type": "code",
   "execution_count": 12,
   "id": "ed2eec0e-4df3-4b7c-b753-6f9b6fad04ad",
   "metadata": {},
   "outputs": [],
   "source": [
    "merged_df = pd.merge(gdf_accident_data1222, population, on='ZCTA5CE20', how='left')"
   ]
  },
  {
   "cell_type": "code",
   "execution_count": 13,
   "id": "5986fc16-c32b-4ea7-af04-aceaecdfcb95",
   "metadata": {},
   "outputs": [],
   "source": [
    "#Table A: Value = the number of incidents with any motor vehicle fatality in each year\n",
    "\n",
    "unique_years = merged_df['YEAR'].unique()\n",
    "\n",
    "\n",
    "for year in unique_years:\n",
    "    merged_df[f'Count_{year}'] = merged_df.apply(lambda col: col['FATALS'] if col['YEAR'] == year else None, axis=1)\n",
    "\n"
   ]
  },
  {
   "cell_type": "code",
   "execution_count": 14,
   "id": "26519e99-a587-4c8e-9cf3-451fb4206aee",
   "metadata": {},
   "outputs": [],
   "source": [
    "merged_df = merged_df.rename(columns={'Count_2022.0': '2022',  'Count_2021.0': '2021', 'Count_2020.0': '2020','Count_2019.0': '2019',  'Count_2018.0': '2018', 'Count_2017.0': '2017','Count_2016.0': '2016',  'Count_2015.0': '2015', 'Count_2014.0': '2014','Count_2013.0': '2013',  'Count_2012.0': '2012'})"
   ]
  },
  {
   "cell_type": "code",
   "execution_count": 15,
   "id": "0699014e-9b44-4298-b610-ebd56eabd00a",
   "metadata": {},
   "outputs": [],
   "source": [
    "\n",
    "# Group by 'ZCTACE20' and count cases\n",
    "grouped_df = merged_df.groupby('ZCTA5CE20').agg({\n",
    "    '2012': 'count',\n",
    "    '2013': 'count',\n",
    "    '2014': 'count',\n",
    "    '2015': 'count',\n",
    "    '2016': 'count',\n",
    "    '2017': 'count',\n",
    "    '2018': 'count',\n",
    "    '2019': 'count',\n",
    "    '2020': 'count',\n",
    "    '2021': 'count',\n",
    "    '2022': 'count',\n",
    "    'FATALS': 'count',    \n",
    "    'DP1_0001C':'mean'\n",
    "}).reset_index()"
   ]
  },
  {
   "cell_type": "code",
   "execution_count": 16,
   "id": "c1083827-7d67-4ccf-848d-9b4566c92cf5",
   "metadata": {},
   "outputs": [],
   "source": [
    "us_info = pd.read_csv('F:/FELIPE/Trabajos extras/2024/RHETT MORRIS/Car accident fatatilities/uszips.csv')\n",
    "us_info = us_info.rename(columns={'zip': 'ZCTA5CE20'})"
   ]
  },
  {
   "cell_type": "code",
   "execution_count": 17,
   "id": "2aefc2f8-5d4c-47dd-8784-ad32603fd5f8",
   "metadata": {},
   "outputs": [],
   "source": [
    "grouped_df = pd.merge(grouped_df, us_info, on='ZCTA5CE20', how='left')"
   ]
  },
  {
   "cell_type": "code",
   "execution_count": 18,
   "id": "e2e47ec9-f560-4a80-a452-944bc4707ff1",
   "metadata": {},
   "outputs": [],
   "source": [
    "grouped_df = grouped_df[['ZCTA5CE20','2012','2013','2014','2015','2016','2017','2018','2019','2020','2021','2022','state_name','county_name','DP1_0001C']]\n",
    "grouped_df = grouped_df.rename(columns={'state_name': 'STATE',  'county_name': 'COUNTY', 'DP1_0001C': 'POPULATION'})"
   ]
  },
  {
   "cell_type": "code",
   "execution_count": 19,
   "id": "0fa43ba0-2330-477d-af69-16611b429fd8",
   "metadata": {},
   "outputs": [],
   "source": [
    "grouped_df.to_excel(\"C:/Users/Felipe/Documents/totalincidents.xlsx\", sheet_name='Sheet1', index=False)"
   ]
  },
  {
   "cell_type": "code",
   "execution_count": 20,
   "id": "9f0a3cec-a39c-499a-92f3-6df7bf170245",
   "metadata": {},
   "outputs": [],
   "source": [
    "merged_df_pedestrian = pd.merge(gdf_accident_data1222, population, on='ZCTA5CE20', how='left')"
   ]
  },
  {
   "cell_type": "code",
   "execution_count": 21,
   "id": "181d01a6-96eb-4f47-8b85-d975684f3ddb",
   "metadata": {},
   "outputs": [],
   "source": [
    "merged_df_pedestrian = merged_df_pedestrian[merged_df_pedestrian['COUNT PEDERESTRIANS AND IN/ON BUILDING FATALITIES'] > 0]"
   ]
  },
  {
   "cell_type": "code",
   "execution_count": 22,
   "id": "b386f06e-ea1a-4a5d-a65a-7456e54a390c",
   "metadata": {},
   "outputs": [
    {
     "data": {
      "text/html": [
       "<div>\n",
       "<style scoped>\n",
       "    .dataframe tbody tr th:only-of-type {\n",
       "        vertical-align: middle;\n",
       "    }\n",
       "\n",
       "    .dataframe tbody tr th {\n",
       "        vertical-align: top;\n",
       "    }\n",
       "\n",
       "    .dataframe thead th {\n",
       "        text-align: right;\n",
       "    }\n",
       "</style>\n",
       "<table border=\"1\" class=\"dataframe\">\n",
       "  <thead>\n",
       "    <tr style=\"text-align: right;\">\n",
       "      <th></th>\n",
       "      <th>YEAR</th>\n",
       "      <th>MONTH</th>\n",
       "      <th>MONTHNAME</th>\n",
       "      <th>DAY</th>\n",
       "      <th>DAYNAME</th>\n",
       "      <th>DAY_WEEK</th>\n",
       "      <th>DAY_WEEKNAME</th>\n",
       "      <th>HOUR</th>\n",
       "      <th>MINUTE</th>\n",
       "      <th>LATITUDE</th>\n",
       "      <th>...</th>\n",
       "      <th>Count_2021.0</th>\n",
       "      <th>Count_2020.0</th>\n",
       "      <th>Count_2019.0</th>\n",
       "      <th>Count_2018.0</th>\n",
       "      <th>Count_2017.0</th>\n",
       "      <th>Count_2016.0</th>\n",
       "      <th>Count_2015.0</th>\n",
       "      <th>Count_2014.0</th>\n",
       "      <th>Count_2013.0</th>\n",
       "      <th>Count_2012.0</th>\n",
       "    </tr>\n",
       "  </thead>\n",
       "  <tbody>\n",
       "    <tr>\n",
       "      <th>4</th>\n",
       "      <td>2022.0</td>\n",
       "      <td>1</td>\n",
       "      <td>January</td>\n",
       "      <td>2</td>\n",
       "      <td>2</td>\n",
       "      <td>1.0</td>\n",
       "      <td>Sunday</td>\n",
       "      <td>18</td>\n",
       "      <td>48</td>\n",
       "      <td>33.540281</td>\n",
       "      <td>...</td>\n",
       "      <td>NaN</td>\n",
       "      <td>NaN</td>\n",
       "      <td>NaN</td>\n",
       "      <td>NaN</td>\n",
       "      <td>NaN</td>\n",
       "      <td>NaN</td>\n",
       "      <td>NaN</td>\n",
       "      <td>NaN</td>\n",
       "      <td>NaN</td>\n",
       "      <td>NaN</td>\n",
       "    </tr>\n",
       "    <tr>\n",
       "      <th>5</th>\n",
       "      <td>2022.0</td>\n",
       "      <td>1</td>\n",
       "      <td>January</td>\n",
       "      <td>2</td>\n",
       "      <td>2</td>\n",
       "      <td>1.0</td>\n",
       "      <td>Sunday</td>\n",
       "      <td>18</td>\n",
       "      <td>28</td>\n",
       "      <td>32.351689</td>\n",
       "      <td>...</td>\n",
       "      <td>NaN</td>\n",
       "      <td>NaN</td>\n",
       "      <td>NaN</td>\n",
       "      <td>NaN</td>\n",
       "      <td>NaN</td>\n",
       "      <td>NaN</td>\n",
       "      <td>NaN</td>\n",
       "      <td>NaN</td>\n",
       "      <td>NaN</td>\n",
       "      <td>NaN</td>\n",
       "    </tr>\n",
       "    <tr>\n",
       "      <th>18</th>\n",
       "      <td>2022.0</td>\n",
       "      <td>1</td>\n",
       "      <td>January</td>\n",
       "      <td>9</td>\n",
       "      <td>9</td>\n",
       "      <td>1.0</td>\n",
       "      <td>Sunday</td>\n",
       "      <td>0</td>\n",
       "      <td>30</td>\n",
       "      <td>30.464969</td>\n",
       "      <td>...</td>\n",
       "      <td>NaN</td>\n",
       "      <td>NaN</td>\n",
       "      <td>NaN</td>\n",
       "      <td>NaN</td>\n",
       "      <td>NaN</td>\n",
       "      <td>NaN</td>\n",
       "      <td>NaN</td>\n",
       "      <td>NaN</td>\n",
       "      <td>NaN</td>\n",
       "      <td>NaN</td>\n",
       "    </tr>\n",
       "    <tr>\n",
       "      <th>24</th>\n",
       "      <td>2022.0</td>\n",
       "      <td>1</td>\n",
       "      <td>January</td>\n",
       "      <td>15</td>\n",
       "      <td>15</td>\n",
       "      <td>7.0</td>\n",
       "      <td>Saturday</td>\n",
       "      <td>23</td>\n",
       "      <td>9</td>\n",
       "      <td>33.590283</td>\n",
       "      <td>...</td>\n",
       "      <td>NaN</td>\n",
       "      <td>NaN</td>\n",
       "      <td>NaN</td>\n",
       "      <td>NaN</td>\n",
       "      <td>NaN</td>\n",
       "      <td>NaN</td>\n",
       "      <td>NaN</td>\n",
       "      <td>NaN</td>\n",
       "      <td>NaN</td>\n",
       "      <td>NaN</td>\n",
       "    </tr>\n",
       "    <tr>\n",
       "      <th>25</th>\n",
       "      <td>2022.0</td>\n",
       "      <td>1</td>\n",
       "      <td>January</td>\n",
       "      <td>16</td>\n",
       "      <td>16</td>\n",
       "      <td>1.0</td>\n",
       "      <td>Sunday</td>\n",
       "      <td>23</td>\n",
       "      <td>0</td>\n",
       "      <td>33.665125</td>\n",
       "      <td>...</td>\n",
       "      <td>NaN</td>\n",
       "      <td>NaN</td>\n",
       "      <td>NaN</td>\n",
       "      <td>NaN</td>\n",
       "      <td>NaN</td>\n",
       "      <td>NaN</td>\n",
       "      <td>NaN</td>\n",
       "      <td>NaN</td>\n",
       "      <td>NaN</td>\n",
       "      <td>NaN</td>\n",
       "    </tr>\n",
       "  </tbody>\n",
       "</table>\n",
       "<p>5 rows × 364 columns</p>\n",
       "</div>"
      ],
      "text/plain": [
       "      YEAR  MONTH MONTHNAME  DAY  DAYNAME  DAY_WEEK DAY_WEEKNAME  HOUR  \\\n",
       "4   2022.0      1   January    2        2       1.0       Sunday    18   \n",
       "5   2022.0      1   January    2        2       1.0       Sunday    18   \n",
       "18  2022.0      1   January    9        9       1.0       Sunday     0   \n",
       "24  2022.0      1   January   15       15       7.0     Saturday    23   \n",
       "25  2022.0      1   January   16       16       1.0       Sunday    23   \n",
       "\n",
       "    MINUTE   LATITUDE  ...  Count_2021.0  Count_2020.0  Count_2019.0  \\\n",
       "4       48  33.540281  ...           NaN           NaN           NaN   \n",
       "5       28  32.351689  ...           NaN           NaN           NaN   \n",
       "18      30  30.464969  ...           NaN           NaN           NaN   \n",
       "24       9  33.590283  ...           NaN           NaN           NaN   \n",
       "25       0  33.665125  ...           NaN           NaN           NaN   \n",
       "\n",
       "    Count_2018.0  Count_2017.0  Count_2016.0  Count_2015.0  Count_2014.0  \\\n",
       "4            NaN           NaN           NaN           NaN           NaN   \n",
       "5            NaN           NaN           NaN           NaN           NaN   \n",
       "18           NaN           NaN           NaN           NaN           NaN   \n",
       "24           NaN           NaN           NaN           NaN           NaN   \n",
       "25           NaN           NaN           NaN           NaN           NaN   \n",
       "\n",
       "    Count_2013.0 Count_2012.0  \n",
       "4            NaN          NaN  \n",
       "5            NaN          NaN  \n",
       "18           NaN          NaN  \n",
       "24           NaN          NaN  \n",
       "25           NaN          NaN  \n",
       "\n",
       "[5 rows x 364 columns]"
      ]
     },
     "execution_count": 22,
     "metadata": {},
     "output_type": "execute_result"
    }
   ],
   "source": [
    "#Table B: Value = the number of incidents with a PEDESTRIAN fatality in each year\n",
    "\n",
    "unique_years = merged_df_pedestrian['YEAR'].unique()\n",
    "\n",
    "\n",
    "\n",
    "for year in unique_years:\n",
    "    merged_df_pedestrian[f'Count_{year}'] = merged_df_pedestrian.apply(lambda col: col['COUNT PEDERESTRIANS AND IN/ON BUILDING FATALITIES'] if col['YEAR'] == year else None, axis=1)\n",
    "\n",
    "merged_df_pedestrian.head()"
   ]
  },
  {
   "cell_type": "code",
   "execution_count": 23,
   "id": "9a780815-15de-4d2e-b2c7-70989aae4ecd",
   "metadata": {},
   "outputs": [],
   "source": [
    "merged_df_pedestrian = merged_df_pedestrian.rename(columns={'Count_2022.0': '2022',  'Count_2021.0': '2021', 'Count_2020.0': '2020','Count_2019.0': '2019',  'Count_2018.0': '2018', 'Count_2017.0': '2017','Count_2016.0': '2016',  'Count_2015.0': '2015', 'Count_2014.0': '2014','Count_2013.0': '2013',  'Count_2012.0': '2012'})"
   ]
  },
  {
   "cell_type": "code",
   "execution_count": 24,
   "id": "4b82f3ad-d234-4f52-8318-daefa7f1e4aa",
   "metadata": {},
   "outputs": [
    {
     "name": "stdout",
     "output_type": "stream",
     "text": [
      "       ZCTA5CE20  2012  2013  2014  2015  2016  2017  2018  2019  2020  2021  \\\n",
      "0         1001.0     0     0     0     0     0     1     0     0     0     0   \n",
      "1         1002.0     0     0     1     0     1     0     0     2     0     0   \n",
      "2         1003.0     0     0     0     0     0     0     0     0     0     0   \n",
      "3         1005.0     0     0     0     0     1     0     0     0     0     0   \n",
      "4         1007.0     0     0     0     1     0     1     0     0     0     0   \n",
      "...          ...   ...   ...   ...   ...   ...   ...   ...   ...   ...   ...   \n",
      "13806    99749.0     0     0     1     0     0     0     0     0     0     0   \n",
      "13807    99752.0     0     0     0     0     0     1     0     0     0     1   \n",
      "13808    99762.0     0     0     1     0     0     0     0     0     0     0   \n",
      "13809    99801.0     0     0     0     0     1     0     2     0     0     1   \n",
      "13810    99901.0     0     0     0     0     0     1     0     0     1     0   \n",
      "\n",
      "       2022  COUNT PEDERESTRIANS AND IN/ON BUILDING FATALITIES  DP1_0001C  \n",
      "0         0                                                  1    16984.0  \n",
      "1         0                                                  4    27558.0  \n",
      "2         1                                                  1    13253.0  \n",
      "3         0                                                  1     4900.0  \n",
      "4         0                                                  2    15423.0  \n",
      "...     ...                                                ...        ...  \n",
      "13806     0                                                  1      449.0  \n",
      "13807     0                                                  2     3276.0  \n",
      "13808     0                                                  1     4143.0  \n",
      "13809     1                                                  5    30088.0  \n",
      "13810     0                                                  2    13942.0  \n",
      "\n",
      "[13811 rows x 14 columns]\n"
     ]
    }
   ],
   "source": [
    "\n",
    "# Group by 'ZCTACE20' and count cases\n",
    "grouped_df_pedestrian = merged_df_pedestrian.groupby('ZCTA5CE20').agg({\n",
    "    '2012': 'count',\n",
    "    '2013': 'count',\n",
    "    '2014': 'count',\n",
    "    '2015': 'count',\n",
    "    '2016': 'count',\n",
    "    '2017': 'count',\n",
    "    '2018': 'count',\n",
    "    '2019': 'count',\n",
    "    '2020': 'count',\n",
    "    '2021': 'count',\n",
    "    '2022': 'count',\n",
    "    'COUNT PEDERESTRIANS AND IN/ON BUILDING FATALITIES': 'count',    \n",
    "    'DP1_0001C':'mean'\n",
    "}).reset_index()\n",
    "\n",
    "print(grouped_df_pedestrian)\n"
   ]
  },
  {
   "cell_type": "code",
   "execution_count": 25,
   "id": "29b332e5-6fb3-43da-b32f-cde5aaa02cf7",
   "metadata": {},
   "outputs": [],
   "source": [
    "grouped_df_pedestrian = pd.merge(grouped_df_pedestrian, us_info, on='ZCTA5CE20', how='left')"
   ]
  },
  {
   "cell_type": "code",
   "execution_count": 26,
   "id": "710bf934-eaa7-45f6-9b88-28af20623953",
   "metadata": {},
   "outputs": [],
   "source": [
    "grouped_df_pedestrian = grouped_df_pedestrian[['ZCTA5CE20','2012','2013','2014','2015','2016','2017','2018','2019','2020','2021','2022','state_name','county_name','DP1_0001C']]\n",
    "grouped_df_pedestrian = grouped_df_pedestrian.rename(columns={'state_name': 'STATE',  'county_name': 'COUNTY', 'DP1_0001C': 'POPULATION'})"
   ]
  },
  {
   "cell_type": "code",
   "execution_count": 27,
   "id": "fd959131-5572-4263-b35f-c67b027e705d",
   "metadata": {},
   "outputs": [],
   "source": [
    "grouped_df_pedestrian.to_excel(\"C:/Users/Felipe/Documents/pedestrian.xlsx\", sheet_name='Sheet1', index=False)"
   ]
  },
  {
   "cell_type": "code",
   "execution_count": 28,
   "id": "f2f79d5b-fcb7-464b-b656-00ef821edad4",
   "metadata": {},
   "outputs": [],
   "source": [
    "merged_df_cyclist = pd.merge(gdf_accident_data1222, population, on='ZCTA5CE20', how='left')"
   ]
  },
  {
   "cell_type": "code",
   "execution_count": 29,
   "id": "6cc935a5-bc89-416a-899e-d40a481129cd",
   "metadata": {},
   "outputs": [],
   "source": [
    "merged_df_cyclist = merged_df_cyclist[merged_df_cyclist['COUNT BICYCLIST, OTHER PEDALCYCLIST AND PERSONAL CONVEYANCE FATALITIES'] > 0]"
   ]
  },
  {
   "cell_type": "code",
   "execution_count": 30,
   "id": "6c44cabb-c146-4964-8a77-ba4ba861865d",
   "metadata": {},
   "outputs": [],
   "source": [
    "\n",
    "#Table C: Value = the number of incidents with a CYCLIST fatality in each year\n",
    "\n",
    "unique_years = merged_df_cyclist['YEAR'].unique()\n",
    "\n",
    "\n",
    "for year in unique_years:\n",
    "    merged_df_cyclist[f'Count_{year}'] = merged_df_cyclist.apply(lambda row: row['COUNT BICYCLIST, OTHER PEDALCYCLIST AND PERSONAL CONVEYANCE FATALITIES'] if row['YEAR'] == year else None, axis=1)\n"
   ]
  },
  {
   "cell_type": "code",
   "execution_count": 31,
   "id": "e218c3c4-25bc-455b-846f-60735ae0d424",
   "metadata": {},
   "outputs": [],
   "source": [
    "merged_df_cyclist = merged_df_cyclist.rename(columns={'Count_2022.0': '2022',  'Count_2021.0': '2021', 'Count_2020.0': '2020','Count_2019.0': '2019',  'Count_2018.0': '2018', 'Count_2017.0': '2017','Count_2016.0': '2016',  'Count_2015.0': '2015', 'Count_2014.0': '2014','Count_2013.0': '2013',  'Count_2012.0': '2012'})"
   ]
  },
  {
   "cell_type": "code",
   "execution_count": 32,
   "id": "d00d066a-6025-4703-ae7c-25a217a7d5d6",
   "metadata": {},
   "outputs": [
    {
     "name": "stdout",
     "output_type": "stream",
     "text": [
      "      ZCTA5CE20  2012  2013  2014  2015  2016  2017  2018  2019  2020  2021  \\\n",
      "0        1002.0     0     1     0     0     0     0     0     0     0     0   \n",
      "1        1013.0     0     0     0     0     0     0     0     0     0     0   \n",
      "2        1028.0     0     0     0     0     0     0     0     0     0     0   \n",
      "3        1040.0     0     0     0     0     1     0     0     0     0     0   \n",
      "4        1060.0     1     0     0     0     0     0     0     0     0     1   \n",
      "...         ...   ...   ...   ...   ...   ...   ...   ...   ...   ...   ...   \n",
      "5388    99671.0     0     0     0     0     0     0     0     0     1     0   \n",
      "5389    99705.0     1     0     0     0     0     0     0     0     0     0   \n",
      "5390    99730.0     0     0     0     0     0     0     0     0     1     0   \n",
      "5391    99743.0     0     0     1     0     0     0     0     0     0     0   \n",
      "5392    99835.0     0     0     0     0     0     0     0     0     0     1   \n",
      "\n",
      "      2022  \\\n",
      "0        0   \n",
      "1        1   \n",
      "2        1   \n",
      "3        0   \n",
      "4        0   \n",
      "...    ...   \n",
      "5388     0   \n",
      "5389     0   \n",
      "5390     0   \n",
      "5391     0   \n",
      "5392     0   \n",
      "\n",
      "      COUNT BICYCLIST, OTHER PEDALCYCLIST AND PERSONAL CONVEYANCE FATALITIES  \\\n",
      "0                                                     1                        \n",
      "1                                                     1                        \n",
      "2                                                     1                        \n",
      "3                                                     1                        \n",
      "4                                                     2                        \n",
      "...                                                 ...                        \n",
      "5388                                                  1                        \n",
      "5389                                                  1                        \n",
      "5390                                                  1                        \n",
      "5391                                                  1                        \n",
      "5392                                                  1                        \n",
      "\n",
      "      DP1_0001C  \n",
      "0       27558.0  \n",
      "1       23656.0  \n",
      "2       16417.0  \n",
      "3       38238.0  \n",
      "4       14461.0  \n",
      "...         ...  \n",
      "5388      634.0  \n",
      "5389    22040.0  \n",
      "5390      101.0  \n",
      "5391      949.0  \n",
      "5392     8446.0  \n",
      "\n",
      "[5393 rows x 14 columns]\n"
     ]
    }
   ],
   "source": [
    "\n",
    "# Group by 'ZCTACE20' and count cases\n",
    "grouped_df_cyclist = merged_df_cyclist.groupby('ZCTA5CE20').agg({\n",
    "    '2012': 'count',\n",
    "    '2013': 'count',\n",
    "    '2014': 'count',\n",
    "    '2015': 'count',\n",
    "    '2016': 'count',\n",
    "    '2017': 'count',\n",
    "    '2018': 'count',\n",
    "    '2019': 'count',\n",
    "    '2020': 'count',\n",
    "    '2021': 'count',\n",
    "    '2022': 'count',\n",
    "    'COUNT BICYCLIST, OTHER PEDALCYCLIST AND PERSONAL CONVEYANCE FATALITIES': 'count',\n",
    "    'DP1_0001C':'mean'\n",
    "}).reset_index()\n",
    "\n",
    "print(grouped_df_cyclist)\n",
    "\n",
    "\n"
   ]
  },
  {
   "cell_type": "code",
   "execution_count": 33,
   "id": "e60140dc-d7cf-4e37-8539-7a000f0575b4",
   "metadata": {},
   "outputs": [],
   "source": [
    "grouped_df_cyclist = pd.merge(grouped_df_cyclist, us_info, on='ZCTA5CE20', how='left')"
   ]
  },
  {
   "cell_type": "code",
   "execution_count": 34,
   "id": "b2e1a1e6-e3fc-407c-aad1-3f2e7ddbee27",
   "metadata": {},
   "outputs": [],
   "source": [
    "grouped_df_cyclist = grouped_df_cyclist[['ZCTA5CE20','2012','2013','2014','2015','2016','2017','2018','2019','2020','2021','2022','state_name','county_name','DP1_0001C']]\n",
    "grouped_df_cyclist = grouped_df_cyclist.rename(columns={'state_name': 'STATE',  'county_name': 'COUNTY', 'DP1_0001C': 'POPULATION'})"
   ]
  },
  {
   "cell_type": "code",
   "execution_count": 35,
   "id": "4b7f3092-198c-482d-b336-d6ae300253af",
   "metadata": {},
   "outputs": [],
   "source": [
    "grouped_df_cyclist.to_excel(\"C:/Users/Felipe/Documents/cyclists.xlsx\", sheet_name='Sheet1', index=False)"
   ]
  },
  {
   "cell_type": "code",
   "execution_count": 36,
   "id": "597fdf2c-9d73-4aa8-946c-f98f453287be",
   "metadata": {},
   "outputs": [],
   "source": [
    "merged_df_driverandpassanger = pd.merge(gdf_accident_data1222, population, on='ZCTA5CE20', how='left')"
   ]
  },
  {
   "cell_type": "code",
   "execution_count": 37,
   "id": "18e19e39-cf4d-4290-9f85-1ef9fbeb4e70",
   "metadata": {},
   "outputs": [],
   "source": [
    "merged_df_driverandpassanger['TOTAL FATALITIES'] = merged_df_driverandpassanger['COUNT DRIVER FATALITIES'] + merged_df_driverandpassanger['COUNT PASSENGER AND OCCUPANTS FATALITIES']"
   ]
  },
  {
   "cell_type": "code",
   "execution_count": 38,
   "id": "ec02d734-cb2b-4665-b742-60908b46eb53",
   "metadata": {},
   "outputs": [],
   "source": [
    "merged_df_driverandpassanger = merged_df_driverandpassanger[merged_df_driverandpassanger['TOTAL FATALITIES'] > 0]"
   ]
  },
  {
   "cell_type": "code",
   "execution_count": 39,
   "id": "04e8036c-57bc-4904-a6b6-a814d0e430c0",
   "metadata": {},
   "outputs": [],
   "source": [
    "\n",
    "#Table D: Value = the number of incidents with a DRIVER OR PASSENGER fatality in each year\n",
    "\n",
    "unique_years = merged_df_driverandpassanger['YEAR'].unique()\n",
    "\n",
    "\n",
    "for year in unique_years:\n",
    "    merged_df_driverandpassanger[f'Count_{year}'] = merged_df_driverandpassanger.apply(lambda col: col['TOTAL FATALITIES'] if col['YEAR'] == year else None, axis=1)\n",
    "\n"
   ]
  },
  {
   "cell_type": "code",
   "execution_count": 40,
   "id": "af9f5c26-11cd-46c2-bd6f-dc90eb7cce4e",
   "metadata": {},
   "outputs": [],
   "source": [
    "merged_df_driverandpassanger = merged_df_driverandpassanger.rename(columns={'Count_2022.0': '2022',  'Count_2021.0': '2021', 'Count_2020.0': '2020','Count_2019.0': '2019',  'Count_2018.0': '2018', 'Count_2017.0': '2017','Count_2016.0': '2016',  'Count_2015.0': '2015', 'Count_2014.0': '2014','Count_2013.0': '2013',  'Count_2012.0': '2012'})"
   ]
  },
  {
   "cell_type": "code",
   "execution_count": 41,
   "id": "6ddce3d4-f3e7-42b2-a122-66efbeaf6d45",
   "metadata": {},
   "outputs": [
    {
     "name": "stdout",
     "output_type": "stream",
     "text": [
      "       ZCTA5CE20  2012  2013  2014  2015  2016  2017  2018  2019  2020  2021  \\\n",
      "0         1001.0     0     1     1     0     1     1     0     0     1     0   \n",
      "1         1002.0     0     0     1     0     1     1     0     0     1     0   \n",
      "2         1005.0     0     0     1     0     1     1     1     0     0     2   \n",
      "3         1007.0     2     0     1     0     0     1     2     1     0     2   \n",
      "4         1008.0     0     0     0     0     2     0     0     1     0     0   \n",
      "...          ...   ...   ...   ...   ...   ...   ...   ...   ...   ...   ...   \n",
      "27206    99901.0     1     0     0     0     1     0     1     0     0     0   \n",
      "27207    99921.0     0     1     0     1     0     1     1     0     0     0   \n",
      "27208    99923.0     0     0     0     0     0     1     0     0     0     0   \n",
      "27209    99925.0     0     0     0     0     1     0     0     0     0     1   \n",
      "27210    99929.0     0     0     0     0     0     0     2     0     0     0   \n",
      "\n",
      "       2022  TOTAL FATALITIES  DP1_0001C  \n",
      "0         1                 6    16984.0  \n",
      "1         2                 6    27558.0  \n",
      "2         0                 6     4900.0  \n",
      "3         0                 9    15423.0  \n",
      "4         1                 4     1317.0  \n",
      "...     ...               ...        ...  \n",
      "27206     1                 4    13942.0  \n",
      "27207     0                 4     1626.0  \n",
      "27208     0                 1       66.0  \n",
      "27209     0                 2      784.0  \n",
      "27210     0                 2     2079.0  \n",
      "\n",
      "[27211 rows x 14 columns]\n"
     ]
    }
   ],
   "source": [
    "\n",
    "# Group by 'ZCTACE20' and count cases\n",
    "grouped_df_driverandpassanger = merged_df_driverandpassanger.groupby('ZCTA5CE20').agg({\n",
    "    '2012': 'count',\n",
    "    '2013': 'count',\n",
    "    '2014': 'count',\n",
    "    '2015': 'count',\n",
    "    '2016': 'count',\n",
    "    '2017': 'count',\n",
    "    '2018': 'count',\n",
    "    '2019': 'count',\n",
    "    '2020': 'count',\n",
    "    '2021': 'count',\n",
    "    '2022': 'count',\n",
    "    'TOTAL FATALITIES': 'count',\n",
    "    'DP1_0001C':'mean'\n",
    "}).reset_index()\n",
    "\n",
    "print(grouped_df_driverandpassanger)\n"
   ]
  },
  {
   "cell_type": "code",
   "execution_count": 42,
   "id": "8744f1d2-1dde-440e-8649-18d7ae4efd08",
   "metadata": {},
   "outputs": [],
   "source": [
    "grouped_df_driverandpassanger = pd.merge(grouped_df_driverandpassanger, us_info, on='ZCTA5CE20', how='left')"
   ]
  },
  {
   "cell_type": "code",
   "execution_count": 43,
   "id": "9a3e0785-28f9-4bc6-af84-efd10f5ebdfc",
   "metadata": {},
   "outputs": [],
   "source": [
    "grouped_df_driverandpassanger = grouped_df_driverandpassanger[['ZCTA5CE20','2012','2013','2014','2015','2016','2017','2018','2019','2020','2021','2022','state_name','county_name','DP1_0001C']]\n",
    "grouped_df_driverandpassanger = grouped_df_driverandpassanger.rename(columns={'state_name': 'STATE',  'county_name': 'COUNTY', 'DP1_0001C': 'POPULATION'})"
   ]
  },
  {
   "cell_type": "code",
   "execution_count": 44,
   "id": "94199c8d-1e77-4f8c-82c6-9a29f255792c",
   "metadata": {},
   "outputs": [],
   "source": [
    "grouped_df_driverandpassanger.to_excel(\"C:/Users/Felipe/Documents/driverandpassanger.xlsx\", sheet_name='Sheet1', index=False)"
   ]
  },
  {
   "cell_type": "code",
   "execution_count": 45,
   "id": "a0cc657b-0b23-4b14-9816-91667b9ea50d",
   "metadata": {},
   "outputs": [],
   "source": [
    "#Table E: Value = the number of incidents PER 100,000 RESIDENTS IN THE POPULATION with any motor vehicle fatality in each year\n",
    "grouped_df_Inc100000 = grouped_df.copy()"
   ]
  },
  {
   "cell_type": "code",
   "execution_count": 46,
   "id": "c16d9176-49af-4fa9-82ac-512a95250612",
   "metadata": {},
   "outputs": [],
   "source": [
    "#Table E: Value = the number of incidents PER 100,000 RESIDENTS IN THE POPULATION with any motor vehicle fatality in each year\n",
    "grouped_df_Inc100000['2012'] = (grouped_df_Inc100000['2012']/grouped_df_Inc100000['POPULATION'])*100000\n",
    "grouped_df_Inc100000['2013'] = (grouped_df_Inc100000['2013']/grouped_df_Inc100000['POPULATION'])*100000\n",
    "grouped_df_Inc100000['2014'] = (grouped_df_Inc100000['2014']/grouped_df_Inc100000['POPULATION'])*100000\n",
    "grouped_df_Inc100000['2015'] = (grouped_df_Inc100000['2015']/grouped_df_Inc100000['POPULATION'])*100000\n",
    "grouped_df_Inc100000['2016'] = (grouped_df_Inc100000['2016']/grouped_df_Inc100000['POPULATION'])*100000\n",
    "grouped_df_Inc100000['2017'] = (grouped_df_Inc100000['2017']/grouped_df_Inc100000['POPULATION'])*100000\n",
    "grouped_df_Inc100000['2018'] = (grouped_df_Inc100000['2018']/grouped_df_Inc100000['POPULATION'])*100000\n",
    "grouped_df_Inc100000['2019'] = (grouped_df_Inc100000['2019']/grouped_df_Inc100000['POPULATION'])*100000\n",
    "grouped_df_Inc100000['2020'] = (grouped_df_Inc100000['2020']/grouped_df_Inc100000['POPULATION'])*100000\n",
    "grouped_df_Inc100000['2021'] = (grouped_df_Inc100000['2021']/grouped_df_Inc100000['POPULATION'])*100000\n",
    "grouped_df_Inc100000['2022'] = (grouped_df_Inc100000['2022']/grouped_df_Inc100000['POPULATION'])*100000\n"
   ]
  },
  {
   "cell_type": "code",
   "execution_count": 47,
   "id": "9ecb7490-54c7-40eb-81d9-8c3fd9611eec",
   "metadata": {},
   "outputs": [],
   "source": [
    "grouped_df_Inc100000.to_excel(\"C:/Users/Felipe/Documents/totalx100.xlsx\", sheet_name='Sheet1', index=False)"
   ]
  },
  {
   "cell_type": "code",
   "execution_count": 48,
   "id": "3f274a3c-a993-4756-ad12-26e21b0a5fe8",
   "metadata": {},
   "outputs": [],
   "source": [
    "#Table F: Value = the number of incidents PER 100,000 RESIDENTS IN THE POPULATION with a PEDESTRIAN fatality in each year\n",
    "grouped_df_pedestrian_Inc100000 = grouped_df_pedestrian.copy()"
   ]
  },
  {
   "cell_type": "code",
   "execution_count": 49,
   "id": "5b41437d-9734-4f28-aaed-c5ec6d5905c4",
   "metadata": {},
   "outputs": [],
   "source": [
    "#Table F: Value = the number of incidents PER 100,000 RESIDENTS IN THE POPULATION with a PEDESTRIAN fatality in each year\n",
    "\n",
    "\n",
    "\n",
    "grouped_df_pedestrian_Inc100000['2012'] = (grouped_df_pedestrian_Inc100000['2012']/grouped_df_pedestrian_Inc100000['POPULATION'])*100000\n",
    "grouped_df_pedestrian_Inc100000['2013'] = (grouped_df_pedestrian_Inc100000['2013']/grouped_df_pedestrian_Inc100000['POPULATION'])*100000\n",
    "grouped_df_pedestrian_Inc100000['2014'] = (grouped_df_pedestrian_Inc100000['2014']/grouped_df_pedestrian_Inc100000['POPULATION'])*100000\n",
    "grouped_df_pedestrian_Inc100000['2015'] = (grouped_df_pedestrian_Inc100000['2015']/grouped_df_pedestrian_Inc100000['POPULATION'])*100000\n",
    "grouped_df_pedestrian_Inc100000['2016'] = (grouped_df_pedestrian_Inc100000['2016']/grouped_df_pedestrian_Inc100000['POPULATION'])*100000\n",
    "grouped_df_pedestrian_Inc100000['2017'] = (grouped_df_pedestrian_Inc100000['2017']/grouped_df_pedestrian_Inc100000['POPULATION'])*100000\n",
    "grouped_df_pedestrian_Inc100000['2018'] = (grouped_df_pedestrian_Inc100000['2018']/grouped_df_pedestrian_Inc100000['POPULATION'])*100000\n",
    "grouped_df_pedestrian_Inc100000['2019'] = (grouped_df_pedestrian_Inc100000['2019']/grouped_df_pedestrian_Inc100000['POPULATION'])*100000\n",
    "grouped_df_pedestrian_Inc100000['2020'] = (grouped_df_pedestrian_Inc100000['2020']/grouped_df_pedestrian_Inc100000['POPULATION'])*100000\n",
    "grouped_df_pedestrian_Inc100000['2021'] = (grouped_df_pedestrian_Inc100000['2021']/grouped_df_pedestrian_Inc100000['POPULATION'])*100000\n",
    "grouped_df_pedestrian_Inc100000['2022'] = (grouped_df_pedestrian_Inc100000['2022']/grouped_df_pedestrian_Inc100000['POPULATION'])*100000\n"
   ]
  },
  {
   "cell_type": "code",
   "execution_count": 50,
   "id": "2496ac5f-553b-4a47-a56d-7a48144da2d8",
   "metadata": {},
   "outputs": [],
   "source": [
    "grouped_df_pedestrian_Inc100000.to_excel(\"C:/Users/Felipe/Documents/pedrestianx100.xlsx\", sheet_name='Sheet1', index=False)"
   ]
  },
  {
   "cell_type": "code",
   "execution_count": 51,
   "id": "d67a0cef-adea-491e-8966-75076d9db303",
   "metadata": {},
   "outputs": [],
   "source": [
    "grouped_df_cyclist_Inc100000 = grouped_df_cyclist.copy()"
   ]
  },
  {
   "cell_type": "code",
   "execution_count": 52,
   "id": "060cc33f-69f8-43c8-9404-081343f9d4a1",
   "metadata": {},
   "outputs": [],
   "source": [
    "#Table G: Value = the number of incidents PER 100,000 RESIDENTS IN THE POPULATION with a CYCLIST fatality in each year\n",
    "\n",
    "\n",
    "grouped_df_cyclist_Inc100000['2012'] = (grouped_df_cyclist_Inc100000['2012']/grouped_df_cyclist_Inc100000['POPULATION'])*100000\n",
    "grouped_df_cyclist_Inc100000['2013'] = (grouped_df_cyclist_Inc100000['2013']/grouped_df_cyclist_Inc100000['POPULATION'])*100000\n",
    "grouped_df_cyclist_Inc100000['2014'] = (grouped_df_cyclist_Inc100000['2014']/grouped_df_cyclist_Inc100000['POPULATION'])*100000\n",
    "grouped_df_cyclist_Inc100000['2015'] = (grouped_df_cyclist_Inc100000['2015']/grouped_df_cyclist_Inc100000['POPULATION'])*100000\n",
    "grouped_df_cyclist_Inc100000['2016'] = (grouped_df_cyclist_Inc100000['2016']/grouped_df_cyclist_Inc100000['POPULATION'])*100000\n",
    "grouped_df_cyclist_Inc100000['2017'] = (grouped_df_cyclist_Inc100000['2017']/grouped_df_cyclist_Inc100000['POPULATION'])*100000\n",
    "grouped_df_cyclist_Inc100000['2018'] = (grouped_df_cyclist_Inc100000['2018']/grouped_df_cyclist_Inc100000['POPULATION'])*100000\n",
    "grouped_df_cyclist_Inc100000['2019'] = (grouped_df_cyclist_Inc100000['2019']/grouped_df_cyclist_Inc100000['POPULATION'])*100000\n",
    "grouped_df_cyclist_Inc100000['2020'] = (grouped_df_cyclist_Inc100000['2020']/grouped_df_cyclist_Inc100000['POPULATION'])*100000\n",
    "grouped_df_cyclist_Inc100000['2021'] = (grouped_df_cyclist_Inc100000['2021']/grouped_df_cyclist_Inc100000['POPULATION'])*100000\n",
    "grouped_df_cyclist_Inc100000['2022'] = (grouped_df_cyclist_Inc100000['2022']/grouped_df_cyclist_Inc100000['POPULATION'])*100000\n",
    "\n"
   ]
  },
  {
   "cell_type": "code",
   "execution_count": 53,
   "id": "1e88ad1b-a81a-44bf-8c9a-59fbb6480941",
   "metadata": {},
   "outputs": [],
   "source": [
    "grouped_df_cyclist_Inc100000.to_excel(\"C:/Users/Felipe/Documents/cyclistx100.xlsx\", sheet_name='Sheet1', index=False)"
   ]
  },
  {
   "cell_type": "code",
   "execution_count": 54,
   "id": "684a0b79-a5c4-4c3f-8788-41593e3d1bc2",
   "metadata": {},
   "outputs": [],
   "source": [
    "grouped_df_driverandpassanger_Inc100000 = grouped_df_driverandpassanger.copy()"
   ]
  },
  {
   "cell_type": "code",
   "execution_count": 55,
   "id": "db9ae073-bdce-4064-8612-17661d75552e",
   "metadata": {},
   "outputs": [],
   "source": [
    "# Table H: Value = the number of incidents PER 100,000 RESIDENTS IN THE POPULATION with a DRIVER OR PASSENGER fatality in each year\n",
    "\n",
    "\n",
    "grouped_df_driverandpassanger_Inc100000['2012'] = (grouped_df_driverandpassanger_Inc100000['2012']/grouped_df_driverandpassanger_Inc100000['POPULATION'])*100000\n",
    "grouped_df_driverandpassanger_Inc100000['2013'] = (grouped_df_driverandpassanger_Inc100000['2013']/grouped_df_driverandpassanger_Inc100000['POPULATION'])*100000\n",
    "grouped_df_driverandpassanger_Inc100000['2014'] = (grouped_df_driverandpassanger_Inc100000['2014']/grouped_df_driverandpassanger_Inc100000['POPULATION'])*100000\n",
    "grouped_df_driverandpassanger_Inc100000['2015'] = (grouped_df_driverandpassanger_Inc100000['2015']/grouped_df_driverandpassanger_Inc100000['POPULATION'])*100000\n",
    "grouped_df_driverandpassanger_Inc100000['2016'] = (grouped_df_driverandpassanger_Inc100000['2016']/grouped_df_driverandpassanger_Inc100000['POPULATION'])*100000\n",
    "grouped_df_driverandpassanger_Inc100000['2017'] = (grouped_df_driverandpassanger_Inc100000['2017']/grouped_df_driverandpassanger_Inc100000['POPULATION'])*100000\n",
    "grouped_df_driverandpassanger_Inc100000['2018'] = (grouped_df_driverandpassanger_Inc100000['2018']/grouped_df_driverandpassanger_Inc100000['POPULATION'])*100000\n",
    "grouped_df_driverandpassanger_Inc100000['2019'] = (grouped_df_driverandpassanger_Inc100000['2019']/grouped_df_driverandpassanger_Inc100000['POPULATION'])*100000\n",
    "grouped_df_driverandpassanger_Inc100000['2020'] = (grouped_df_driverandpassanger_Inc100000['2020']/grouped_df_driverandpassanger_Inc100000['POPULATION'])*100000\n",
    "grouped_df_driverandpassanger_Inc100000['2021'] = (grouped_df_driverandpassanger_Inc100000['2021']/grouped_df_driverandpassanger_Inc100000['POPULATION'])*100000\n",
    "grouped_df_driverandpassanger_Inc100000['2022'] = (grouped_df_driverandpassanger_Inc100000['2022']/grouped_df_driverandpassanger_Inc100000['POPULATION'])*100000\n"
   ]
  },
  {
   "cell_type": "code",
   "execution_count": 56,
   "id": "bb6aa66b-2428-4276-ada2-a65f8c5bdcbe",
   "metadata": {},
   "outputs": [],
   "source": [
    "grouped_df_driverandpassanger_Inc100000.to_excel(\"C:/Users/Felipe/Documents/driverandpassangerx100.xlsx\", sheet_name='Sheet1', index=False)"
   ]
  },
  {
   "cell_type": "code",
   "execution_count": 58,
   "id": "f538b343-8a56-4eb1-9a09-47db0d1f027d",
   "metadata": {},
   "outputs": [
    {
     "name": "stdout",
     "output_type": "stream",
     "text": [
      "\n",
      "DataFrame with maximum values:\n",
      "ZCTA5CE20        93307.0\n",
      "2012                  17\n",
      "2013                  15\n",
      "2014                  11\n",
      "2015                  17\n",
      "2016                  18\n",
      "2017                  20\n",
      "2018                  13\n",
      "2019                  13\n",
      "2020                  28\n",
      "2021                  24\n",
      "2022                  22\n",
      "STATE         California\n",
      "COUNTY              Kern\n",
      "POPULATION       88338.0\n",
      "2012-2022            198\n",
      "Name: 25641, dtype: object\n"
     ]
    },
    {
     "name": "stderr",
     "output_type": "stream",
     "text": [
      "C:\\Users\\Felipe\\AppData\\Local\\Temp\\ipykernel_27452\\1795954929.py:2: SettingWithCopyWarning: \n",
      "A value is trying to be set on a copy of a slice from a DataFrame.\n",
      "Try using .loc[row_indexer,col_indexer] = value instead\n",
      "\n",
      "See the caveats in the documentation: https://pandas.pydata.org/pandas-docs/stable/user_guide/indexing.html#returning-a-view-versus-a-copy\n",
      "  incidentsgreater1000['2012-2022']  = incidentsgreater1000[['2012','2013','2014','2015','2016','2017','2018','2019','2020','2021','2022']].sum(axis=1)\n"
     ]
    }
   ],
   "source": [
    "incidentsgreater1000 = grouped_df[grouped_df['POPULATION'] >= 1000]\n",
    "incidentsgreater1000['2012-2022']  = incidentsgreater1000[['2012','2013','2014','2015','2016','2017','2018','2019','2020','2021','2022']].sum(axis=1)\n",
    "\n",
    "max_values_idx = incidentsgreater1000['2012-2022'].idxmax()\n",
    "max_values_ZCTA5CE20 = incidentsgreater1000.loc[max_values_idx]\n",
    "\n",
    "print(\"\\nDataFrame with maximum values:\")\n",
    "print(max_values_ZCTA5CE20)"
   ]
  },
  {
   "cell_type": "code",
   "execution_count": 59,
   "id": "14d8dace-53ef-4019-a6cc-60dd5783cc66",
   "metadata": {},
   "outputs": [
    {
     "name": "stdout",
     "output_type": "stream",
     "text": [
      "\n",
      "DataFrame with maximum values:\n",
      "ZCTA5CE20         93243.0\n",
      "2012           432.900433\n",
      "2013           144.300144\n",
      "2014            72.150072\n",
      "2015           288.600289\n",
      "2016           505.050505\n",
      "2017           288.600289\n",
      "2018           865.800866\n",
      "2019           432.900433\n",
      "2020           505.050505\n",
      "2021           721.500722\n",
      "2022           505.050505\n",
      "STATE          California\n",
      "COUNTY               Kern\n",
      "POPULATION         1386.0\n",
      "2012-2022     4761.904762\n",
      "Name: 25606, dtype: object\n"
     ]
    },
    {
     "name": "stderr",
     "output_type": "stream",
     "text": [
      "C:\\Users\\Felipe\\AppData\\Local\\Temp\\ipykernel_27452\\414031202.py:3: SettingWithCopyWarning: \n",
      "A value is trying to be set on a copy of a slice from a DataFrame.\n",
      "Try using .loc[row_indexer,col_indexer] = value instead\n",
      "\n",
      "See the caveats in the documentation: https://pandas.pydata.org/pandas-docs/stable/user_guide/indexing.html#returning-a-view-versus-a-copy\n",
      "  incidentsgreater1000_100k['2012-2022']  = incidentsgreater1000_100k[['2012','2013','2014','2015','2016','2017','2018','2019','2020','2021','2022']].sum(axis=1)\n"
     ]
    }
   ],
   "source": [
    "incidentsgreater1000_100k = grouped_df_Inc100000[grouped_df_Inc100000['POPULATION'] >= 1000]\n",
    "\n",
    "incidentsgreater1000_100k['2012-2022']  = incidentsgreater1000_100k[['2012','2013','2014','2015','2016','2017','2018','2019','2020','2021','2022']].sum(axis=1)\n",
    "\n",
    "max_val_100k_idx = incidentsgreater1000_100k['2012-2022'].idxmax()\n",
    "max_val_100k_ZCTA5CE20 = incidentsgreater1000_100k.loc[max_val_100k_idx]\n",
    "\n",
    "print(\"\\nDataFrame with maximum values:\")\n",
    "print(max_val_100k_ZCTA5CE20)"
   ]
  },
  {
   "cell_type": "code",
   "execution_count": 60,
   "id": "28724ff8-d735-4ca7-b96c-a316fe7071da",
   "metadata": {},
   "outputs": [
    {
     "name": "stdout",
     "output_type": "stream",
     "text": [
      "\n",
      "DataFrame with maximum values:\n",
      "ZCTA5CE20         90044.0\n",
      "2012                    3\n",
      "2013                    0\n",
      "2014                    3\n",
      "2015                    5\n",
      "2016                   10\n",
      "2017                    9\n",
      "2018                    8\n",
      "2019                   13\n",
      "2020                    6\n",
      "2021                    7\n",
      "2022                    8\n",
      "STATE          California\n",
      "COUNTY        Los Angeles\n",
      "POPULATION        94354.0\n",
      "2012-2022              72\n",
      "Name: 12086, dtype: object\n"
     ]
    },
    {
     "name": "stderr",
     "output_type": "stream",
     "text": [
      "C:\\Users\\Felipe\\AppData\\Local\\Temp\\ipykernel_27452\\370432549.py:2: SettingWithCopyWarning: \n",
      "A value is trying to be set on a copy of a slice from a DataFrame.\n",
      "Try using .loc[row_indexer,col_indexer] = value instead\n",
      "\n",
      "See the caveats in the documentation: https://pandas.pydata.org/pandas-docs/stable/user_guide/indexing.html#returning-a-view-versus-a-copy\n",
      "  inc_pedestrian_greater1000['2012-2022']  = inc_pedestrian_greater1000[['2012','2013','2014','2015','2016','2017','2018','2019','2020','2021','2022']].sum(axis=1)\n"
     ]
    }
   ],
   "source": [
    "inc_pedestrian_greater1000 = grouped_df_pedestrian[grouped_df_pedestrian['POPULATION'] >= 1000]\n",
    "inc_pedestrian_greater1000['2012-2022']  = inc_pedestrian_greater1000[['2012','2013','2014','2015','2016','2017','2018','2019','2020','2021','2022']].sum(axis=1)\n",
    "\n",
    "max_val_ped_idx = inc_pedestrian_greater1000['2012-2022'].idxmax()\n",
    "max_val_ped_ZCTA5CE20 = inc_pedestrian_greater1000.loc[max_val_ped_idx]\n",
    "\n",
    "print(\"\\nDataFrame with maximum values:\")\n",
    "print(max_val_ped_ZCTA5CE20)\n",
    "\n"
   ]
  },
  {
   "cell_type": "code",
   "execution_count": 61,
   "id": "bc6c0ea8-1924-456c-88fb-958a42eececd",
   "metadata": {},
   "outputs": [
    {
     "name": "stdout",
     "output_type": "stream",
     "text": [
      "\n",
      "DataFrame with maximum values:\n",
      "ZCTA5CE20         30336.0\n",
      "2012            74.738416\n",
      "2013                  0.0\n",
      "2014                  0.0\n",
      "2015           149.476831\n",
      "2016                  0.0\n",
      "2017           373.692078\n",
      "2018           224.215247\n",
      "2019           298.953662\n",
      "2020           298.953662\n",
      "2021           298.953662\n",
      "2022           149.476831\n",
      "STATE             Georgia\n",
      "COUNTY             Fulton\n",
      "POPULATION         1338.0\n",
      "2012-2022     1868.460389\n",
      "Name: 4089, dtype: object\n"
     ]
    },
    {
     "name": "stderr",
     "output_type": "stream",
     "text": [
      "C:\\Users\\Felipe\\AppData\\Local\\Temp\\ipykernel_27452\\875461062.py:2: SettingWithCopyWarning: \n",
      "A value is trying to be set on a copy of a slice from a DataFrame.\n",
      "Try using .loc[row_indexer,col_indexer] = value instead\n",
      "\n",
      "See the caveats in the documentation: https://pandas.pydata.org/pandas-docs/stable/user_guide/indexing.html#returning-a-view-versus-a-copy\n",
      "  inc_ped_100K_greater1000 ['2012-2022']  = inc_ped_100K_greater1000[['2012','2013','2014','2015','2016','2017','2018','2019','2020','2021','2022']].sum(axis=1)\n"
     ]
    }
   ],
   "source": [
    "inc_ped_100K_greater1000 = grouped_df_pedestrian_Inc100000[grouped_df_pedestrian_Inc100000['POPULATION'] >= 1000]\n",
    "inc_ped_100K_greater1000 ['2012-2022']  = inc_ped_100K_greater1000[['2012','2013','2014','2015','2016','2017','2018','2019','2020','2021','2022']].sum(axis=1)\n",
    "\n",
    "\n",
    "\n",
    "max_val_ped_100K_idx = inc_ped_100K_greater1000['2012-2022'].idxmax()\n",
    "max_val_ped_100K_ZCTA5CE20 = inc_ped_100K_greater1000.loc[max_val_ped_100K_idx]\n",
    "\n",
    "print(\"\\nDataFrame with maximum values:\")\n",
    "print(max_val_ped_100K_ZCTA5CE20)\n",
    "\n"
   ]
  },
  {
   "cell_type": "code",
   "execution_count": 62,
   "id": "0da59bef-0231-49b8-89d4-d90337579ba6",
   "metadata": {},
   "outputs": [
    {
     "name": "stdout",
     "output_type": "stream",
     "text": [
      "\n",
      "DataFrame with maximum values:\n",
      "ZCTA5CE20     34667.0\n",
      "2012                1\n",
      "2013                0\n",
      "2014                0\n",
      "2015                0\n",
      "2016                0\n",
      "2017                1\n",
      "2018                2\n",
      "2019                0\n",
      "2020                4\n",
      "2021                4\n",
      "2022                1\n",
      "STATE         Florida\n",
      "COUNTY          Pasco\n",
      "POPULATION    34910.0\n",
      "2012-2022          13\n",
      "Name: 1968, dtype: object\n"
     ]
    },
    {
     "name": "stderr",
     "output_type": "stream",
     "text": [
      "C:\\Users\\Felipe\\AppData\\Local\\Temp\\ipykernel_27452\\4071820995.py:2: SettingWithCopyWarning: \n",
      "A value is trying to be set on a copy of a slice from a DataFrame.\n",
      "Try using .loc[row_indexer,col_indexer] = value instead\n",
      "\n",
      "See the caveats in the documentation: https://pandas.pydata.org/pandas-docs/stable/user_guide/indexing.html#returning-a-view-versus-a-copy\n",
      "  inc_cyclist_greater1000['2012-2022'] = inc_cyclist_greater1000[['2012','2013','2014','2015','2016','2017','2018','2019','2020','2021','2022']].sum(axis=1)\n"
     ]
    }
   ],
   "source": [
    "inc_cyclist_greater1000 = grouped_df_cyclist[grouped_df_cyclist['POPULATION'] >= 1000]\n",
    "inc_cyclist_greater1000['2012-2022'] = inc_cyclist_greater1000[['2012','2013','2014','2015','2016','2017','2018','2019','2020','2021','2022']].sum(axis=1)\n",
    "\n",
    "max_val_cyc_idx = inc_cyclist_greater1000['2012-2022'].idxmax()\n",
    "max_val_cyc_ZCTA5CE20 = inc_cyclist_greater1000.loc[max_val_cyc_idx]\n",
    "\n",
    "print(\"\\nDataFrame with maximum values:\")\n",
    "print(max_val_cyc_ZCTA5CE20)\n"
   ]
  },
  {
   "cell_type": "code",
   "execution_count": 63,
   "id": "41cf502d-c4a0-4524-abef-bede4c37445f",
   "metadata": {},
   "outputs": [
    {
     "name": "stdout",
     "output_type": "stream",
     "text": [
      "\n",
      "DataFrame with second maximum values:\n",
      "ZCTA5CE20     85705.0\n",
      "2012                0\n",
      "2013                0\n",
      "2014                2\n",
      "2015                1\n",
      "2016                0\n",
      "2017                2\n",
      "2018                1\n",
      "2019                2\n",
      "2020                2\n",
      "2021                2\n",
      "2022                1\n",
      "STATE         Arizona\n",
      "COUNTY           Pima\n",
      "POPULATION    56711.0\n",
      "2012-2022          13\n",
      "Name: 4318, dtype: object\n"
     ]
    }
   ],
   "source": [
    "Second_Maximum_Cyclst_cases = inc_cyclist_greater1000.loc[4318]\n",
    "\n",
    "print(\"\\nDataFrame with second maximum values:\")\n",
    "print(Second_Maximum_Cyclst_cases)"
   ]
  },
  {
   "cell_type": "code",
   "execution_count": 64,
   "id": "48e79354-6066-4770-9d9d-209d30cb7eab",
   "metadata": {},
   "outputs": [
    {
     "name": "stdout",
     "output_type": "stream",
     "text": [
      "\n",
      "DataFrame with maximum values:\n",
      "ZCTA5CE20        98134.0\n",
      "2012                 0.0\n",
      "2013           82.236842\n",
      "2014                 0.0\n",
      "2015                 0.0\n",
      "2016                 0.0\n",
      "2017          164.473684\n",
      "2018                 0.0\n",
      "2019           82.236842\n",
      "2020                 0.0\n",
      "2021                 0.0\n",
      "2022          246.710526\n",
      "STATE         Washington\n",
      "COUNTY              King\n",
      "POPULATION        1216.0\n",
      "2012-2022     575.657895\n",
      "Name: 5307, dtype: object\n"
     ]
    },
    {
     "name": "stderr",
     "output_type": "stream",
     "text": [
      "C:\\Users\\Felipe\\AppData\\Local\\Temp\\ipykernel_27452\\377668926.py:2: SettingWithCopyWarning: \n",
      "A value is trying to be set on a copy of a slice from a DataFrame.\n",
      "Try using .loc[row_indexer,col_indexer] = value instead\n",
      "\n",
      "See the caveats in the documentation: https://pandas.pydata.org/pandas-docs/stable/user_guide/indexing.html#returning-a-view-versus-a-copy\n",
      "  inc_cyclist_100k_greater1000['2012-2022'] = inc_cyclist_100k_greater1000 [['2012','2013','2014','2015','2016','2017','2018','2019','2020','2021','2022']].sum(axis=1)\n"
     ]
    }
   ],
   "source": [
    "inc_cyclist_100k_greater1000 = grouped_df_cyclist_Inc100000[grouped_df_cyclist_Inc100000['POPULATION'] >= 1000]\n",
    "inc_cyclist_100k_greater1000['2012-2022'] = inc_cyclist_100k_greater1000[['2012','2013','2014','2015','2016','2017','2018','2019','2020','2021','2022']].sum(axis=1)\n",
    "\n",
    "max_val_cyc_100_kidx = inc_cyclist_100k_greater1000['2012-2022'].idxmax()\n",
    "max_val_cyc_ZCTA5CE20 = inc_cyclist_100k_greater1000.loc[max_val_cyc_100_kidx]\n",
    "\n",
    "print(\"\\nDataFrame with maximum values:\")\n",
    "print(max_val_cyc_ZCTA5CE20)\n"
   ]
  },
  {
   "cell_type": "code",
   "execution_count": 65,
   "id": "6174d6a1-fec4-43bf-8c53-57428cb94809",
   "metadata": {},
   "outputs": [
    {
     "name": "stderr",
     "output_type": "stream",
     "text": [
      "C:\\Users\\Felipe\\AppData\\Local\\Temp\\ipykernel_27452\\1365557626.py:1: SettingWithCopyWarning: \n",
      "A value is trying to be set on a copy of a slice from a DataFrame.\n",
      "Try using .loc[row_indexer,col_indexer] = value instead\n",
      "\n",
      "See the caveats in the documentation: https://pandas.pydata.org/pandas-docs/stable/user_guide/indexing.html#returning-a-view-versus-a-copy\n",
      "  incidentsgreater1000['AVG1319'] = incidentsgreater1000[['2013', '2014', '2015','2016','2017','2018','2019']].mean(axis=1)\n",
      "C:\\Users\\Felipe\\AppData\\Local\\Temp\\ipykernel_27452\\1365557626.py:2: SettingWithCopyWarning: \n",
      "A value is trying to be set on a copy of a slice from a DataFrame.\n",
      "Try using .loc[row_indexer,col_indexer] = value instead\n",
      "\n",
      "See the caveats in the documentation: https://pandas.pydata.org/pandas-docs/stable/user_guide/indexing.html#returning-a-view-versus-a-copy\n",
      "  inc_pedestrian_greater1000['AVG1319'] = inc_pedestrian_greater1000[['2013', '2014', '2015','2016','2017','2018','2019']].mean(axis=1)\n",
      "C:\\Users\\Felipe\\AppData\\Local\\Temp\\ipykernel_27452\\1365557626.py:3: SettingWithCopyWarning: \n",
      "A value is trying to be set on a copy of a slice from a DataFrame.\n",
      "Try using .loc[row_indexer,col_indexer] = value instead\n",
      "\n",
      "See the caveats in the documentation: https://pandas.pydata.org/pandas-docs/stable/user_guide/indexing.html#returning-a-view-versus-a-copy\n",
      "  inc_cyclist_greater1000['AVG1319'] = inc_cyclist_greater1000[['2013', '2014', '2015','2016','2017','2018','2019']].mean(axis=1)\n",
      "C:\\Users\\Felipe\\AppData\\Local\\Temp\\ipykernel_27452\\1365557626.py:5: SettingWithCopyWarning: \n",
      "A value is trying to be set on a copy of a slice from a DataFrame.\n",
      "Try using .loc[row_indexer,col_indexer] = value instead\n",
      "\n",
      "See the caveats in the documentation: https://pandas.pydata.org/pandas-docs/stable/user_guide/indexing.html#returning-a-view-versus-a-copy\n",
      "  incidentsgreater1000['AVG2022'] = incidentsgreater1000[['2020', '2021', '2022']].mean(axis=1)\n",
      "C:\\Users\\Felipe\\AppData\\Local\\Temp\\ipykernel_27452\\1365557626.py:6: SettingWithCopyWarning: \n",
      "A value is trying to be set on a copy of a slice from a DataFrame.\n",
      "Try using .loc[row_indexer,col_indexer] = value instead\n",
      "\n",
      "See the caveats in the documentation: https://pandas.pydata.org/pandas-docs/stable/user_guide/indexing.html#returning-a-view-versus-a-copy\n",
      "  inc_pedestrian_greater1000['AVG2022'] = inc_pedestrian_greater1000[['2020', '2021', '2022']].mean(axis=1)\n",
      "C:\\Users\\Felipe\\AppData\\Local\\Temp\\ipykernel_27452\\1365557626.py:7: SettingWithCopyWarning: \n",
      "A value is trying to be set on a copy of a slice from a DataFrame.\n",
      "Try using .loc[row_indexer,col_indexer] = value instead\n",
      "\n",
      "See the caveats in the documentation: https://pandas.pydata.org/pandas-docs/stable/user_guide/indexing.html#returning-a-view-versus-a-copy\n",
      "  inc_cyclist_greater1000['AVG2022'] = inc_cyclist_greater1000[['2020', '2021', '2022']].mean(axis=1)\n",
      "C:\\Users\\Felipe\\AppData\\Local\\Temp\\ipykernel_27452\\1365557626.py:9: SettingWithCopyWarning: \n",
      "A value is trying to be set on a copy of a slice from a DataFrame.\n",
      "Try using .loc[row_indexer,col_indexer] = value instead\n",
      "\n",
      "See the caveats in the documentation: https://pandas.pydata.org/pandas-docs/stable/user_guide/indexing.html#returning-a-view-versus-a-copy\n",
      "  incidentsgreater1000['%_Change'] =  ((incidentsgreater1000['AVG2022']-incidentsgreater1000['AVG1319'])/incidentsgreater1000['AVG1319'])*100\n",
      "C:\\Users\\Felipe\\AppData\\Local\\Temp\\ipykernel_27452\\1365557626.py:10: SettingWithCopyWarning: \n",
      "A value is trying to be set on a copy of a slice from a DataFrame.\n",
      "Try using .loc[row_indexer,col_indexer] = value instead\n",
      "\n",
      "See the caveats in the documentation: https://pandas.pydata.org/pandas-docs/stable/user_guide/indexing.html#returning-a-view-versus-a-copy\n",
      "  inc_pedestrian_greater1000['%_Change'] = ((inc_pedestrian_greater1000['AVG2022']-inc_pedestrian_greater1000['AVG1319'])/inc_pedestrian_greater1000['AVG1319'])*100\n",
      "C:\\Users\\Felipe\\AppData\\Local\\Temp\\ipykernel_27452\\1365557626.py:11: SettingWithCopyWarning: \n",
      "A value is trying to be set on a copy of a slice from a DataFrame.\n",
      "Try using .loc[row_indexer,col_indexer] = value instead\n",
      "\n",
      "See the caveats in the documentation: https://pandas.pydata.org/pandas-docs/stable/user_guide/indexing.html#returning-a-view-versus-a-copy\n",
      "  inc_cyclist_greater1000['%_Change']   = ((inc_cyclist_greater1000['AVG2022'] -inc_cyclist_greater1000['AVG1319'])/inc_cyclist_greater1000['AVG1319'])*100\n"
     ]
    }
   ],
   "source": [
    "incidentsgreater1000['AVG1319'] = incidentsgreater1000[['2013', '2014', '2015','2016','2017','2018','2019']].mean(axis=1)\n",
    "inc_pedestrian_greater1000['AVG1319'] = inc_pedestrian_greater1000[['2013', '2014', '2015','2016','2017','2018','2019']].mean(axis=1)\n",
    "inc_cyclist_greater1000['AVG1319'] = inc_cyclist_greater1000[['2013', '2014', '2015','2016','2017','2018','2019']].mean(axis=1)\n",
    "\n",
    "incidentsgreater1000['AVG2022'] = incidentsgreater1000[['2020', '2021', '2022']].mean(axis=1)\n",
    "inc_pedestrian_greater1000['AVG2022'] = inc_pedestrian_greater1000[['2020', '2021', '2022']].mean(axis=1)\n",
    "inc_cyclist_greater1000['AVG2022'] = inc_cyclist_greater1000[['2020', '2021', '2022']].mean(axis=1)\n",
    "\n",
    "incidentsgreater1000['%_Change'] =  ((incidentsgreater1000['AVG2022']-incidentsgreater1000['AVG1319'])/incidentsgreater1000['AVG1319'])*100\n",
    "inc_pedestrian_greater1000['%_Change'] = ((inc_pedestrian_greater1000['AVG2022']-inc_pedestrian_greater1000['AVG1319'])/inc_pedestrian_greater1000['AVG1319'])*100\n",
    "inc_cyclist_greater1000['%_Change']   = ((inc_cyclist_greater1000['AVG2022'] -inc_cyclist_greater1000['AVG1319'])/inc_cyclist_greater1000['AVG1319'])*100"
   ]
  },
  {
   "cell_type": "code",
   "execution_count": 66,
   "id": "896cde96-ea5a-480f-ba00-2a0a99b9458b",
   "metadata": {},
   "outputs": [
    {
     "name": "stdout",
     "output_type": "stream",
     "text": [
      "\\ZCTA5CE20 with maximum change:\n",
      "ZCTA5CE20         32601.0\n",
      "2012                    1\n",
      "2013                    0\n",
      "2014                    0\n",
      "2015                    0\n",
      "2016                    0\n",
      "2017                    1\n",
      "2018                    0\n",
      "2019                    0\n",
      "2020                    4\n",
      "2021                    0\n",
      "2022                    6\n",
      "STATE             Florida\n",
      "COUNTY            Alachua\n",
      "POPULATION        22039.0\n",
      "2012-2022              12\n",
      "AVG1319          0.142857\n",
      "AVG2022          3.333333\n",
      "%_Change      2233.333333\n",
      "Name: 8427, dtype: object\n"
     ]
    }
   ],
   "source": [
    "inc_cleaned = incidentsgreater1000[~incidentsgreater1000['%_Change'].isin([np.inf])]\n",
    "\n",
    "max_change_idx = inc_cleaned['%_Change'].idxmax()\n",
    "max_change_ZCTA5CE20 = inc_cleaned.loc[max_change_idx]\n",
    "\n",
    "print(\"\\ZCTA5CE20 with maximum change:\")\n",
    "print(max_change_ZCTA5CE20)\n"
   ]
  },
  {
   "cell_type": "code",
   "execution_count": 67,
   "id": "d8eaae5c-0675-4923-b06b-41dcc2d4f905",
   "metadata": {},
   "outputs": [
    {
     "name": "stdout",
     "output_type": "stream",
     "text": [
      "\\ZCTA5CE20 with maximum change:\n",
      "ZCTA5CE20         34474.0\n",
      "2012                    1\n",
      "2013                    0\n",
      "2014                    1\n",
      "2015                    0\n",
      "2016                    0\n",
      "2017                    0\n",
      "2018                    0\n",
      "2019                    0\n",
      "2020                    5\n",
      "2021                    1\n",
      "2022                    2\n",
      "STATE             Florida\n",
      "COUNTY             Marion\n",
      "POPULATION        17781.0\n",
      "2012-2022              10\n",
      "AVG1319          0.142857\n",
      "AVG2022          2.666667\n",
      "%_Change      1766.666667\n",
      "Name: 5103, dtype: object\n"
     ]
    }
   ],
   "source": [
    "inc_ped_cleaned = inc_pedestrian_greater1000[~inc_pedestrian_greater1000['%_Change'].isin([np.inf])]\n",
    "\n",
    "max_change_ped_idx = inc_ped_cleaned['%_Change'].idxmax()\n",
    "max_change_ped_ZCTA5CE20 = inc_ped_cleaned.loc[max_change_ped_idx]\n",
    "\n",
    "print(\"\\ZCTA5CE20 with maximum change:\")\n",
    "print(max_change_ped_ZCTA5CE20)\n"
   ]
  },
  {
   "cell_type": "code",
   "execution_count": 68,
   "id": "de5815e0-11d3-4238-97b0-4a236d910e39",
   "metadata": {},
   "outputs": [
    {
     "name": "stdout",
     "output_type": "stream",
     "text": [
      "\\ZCTA5CE20 with maximum change:\n",
      "ZCTA5CE20         70116.0\n",
      "2012                    0\n",
      "2013                    0\n",
      "2014                    0\n",
      "2015                    0\n",
      "2016                    1\n",
      "2017                    0\n",
      "2018                    0\n",
      "2019                    0\n",
      "2020                    2\n",
      "2021                    2\n",
      "2022                    1\n",
      "STATE           Louisiana\n",
      "COUNTY            Orleans\n",
      "POPULATION        10676.0\n",
      "2012-2022               6\n",
      "AVG1319          0.142857\n",
      "AVG2022          1.666667\n",
      "%_Change      1066.666667\n",
      "Name: 3408, dtype: object\n"
     ]
    }
   ],
   "source": [
    "inc_cyc_cleaned = inc_cyclist_greater1000[~inc_cyclist_greater1000['%_Change'].isin([np.inf])]\n",
    "\n",
    "max_change_cyc_idx = inc_cyc_cleaned['%_Change'].idxmax()\n",
    "max_change_cyc_ZCTA5CE20 = inc_cyc_cleaned.loc[max_change_cyc_idx]\n",
    "\n",
    "print(\"\\ZCTA5CE20 with maximum change:\")\n",
    "print(max_change_cyc_ZCTA5CE20)"
   ]
  }
 ],
 "metadata": {
  "kernelspec": {
   "display_name": "Python 3 (ipykernel)",
   "language": "python",
   "name": "python3"
  },
  "language_info": {
   "codemirror_mode": {
    "name": "ipython",
    "version": 3
   },
   "file_extension": ".py",
   "mimetype": "text/x-python",
   "name": "python",
   "nbconvert_exporter": "python",
   "pygments_lexer": "ipython3",
   "version": "3.11.7"
  }
 },
 "nbformat": 4,
 "nbformat_minor": 5
}
